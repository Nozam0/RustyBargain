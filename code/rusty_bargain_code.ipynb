{
 "cells": [
  {
   "cell_type": "markdown",
   "metadata": {},
   "source": [
    "# Rusty Bargain \n",
    "\n",
    "El servicio de venta de autos usados Rusty Bargain está desarrollando una aplicación para atraer nuevos clientes. Gracias a esa app, puedes averiguar rápidamente el valor de mercado de tu coche.\n",
    "\n",
    "# Tabla de contenido\n",
    "\n",
    "\n",
    "1. [Introducción](#Introducción)\n",
    "\n",
    "    1.1 [Objetivo general](#Objetivo-general)\n",
    "    \n",
    "    1.2 [Objetivos particulares](#Objetivos-particulares)\n",
    "    \n",
    "    \n",
    "2. [Descripción de los datos](#Descripción-de-los-datos)\n",
    "\n",
    "    2.1 [Datos utilizados como características](#Datos-utilizados-como-características)\n",
    "    \n",
    "    2.2 [Datos utilizados como objetivo](#Datos-utilizados-como-objetivo)\n",
    "\n",
    "\n",
    "3. [Preprocesamiento de datos](#Preprocesamiento-de-datos)\n",
    "\n",
    "    3.1 [Limpieza de datos](#Limpieza-de-datos)\n",
    "    \n",
    "    3.2 [Preparación de datos](#Preparación-de-datos)\n",
    "\n",
    "\n",
    "4. [Entrenamiento del modelo](#Entrenamiento-del-modelo)\n",
    "\n",
    "    4.1 [Entrenamiento con modelo de regresión lineal](#Entrenamiento-con-modelo-de-regresión-lineal)\n",
    "    \n",
    "    4.2 [Entrenamiento con regresión lineal con descenso de gradiente estocástico](#Entrenamiento-con-regresión-lineal-con-descenso-de-gradiente-estocástico)\n",
    "    \n",
    "    4.3 [Entrenamiento de modelo mediante LightGBM](#Entrenamiento-de-modelo-mediante-LightGBM)\n",
    "\n",
    "\n",
    "5. [Análisis del modelo](#Análisis-del-modelo)\n",
    "\n",
    "    5.1 [Analizando pruebas con el modelo de regresión lineal SGDL](#Analizando-pruebas-con-el-modelo-de-regresión-lineal-SGDL)\n",
    "    \n",
    "    5.2 [Analizando pruebas con el modelo de regresión lineal GBDT](#Analizando-pruebas-con-el-modelo-de-regresión-lineal-GBDT)  \n",
    "    \n",
    "    \n",
    "6. [Conclusión](#Conclusión)\n",
    "\n",
    "\n",
    "7. [Lista de control](#Lista-de-control)"
   ]
  },
  {
   "cell_type": "markdown",
   "metadata": {},
   "source": [
    "## Introducción\n",
    "\n",
    "### Objetivo general\n",
    "\n",
    "- Desarrollar un modelo de predicción para evaluar el valor en el mercado sobre las característcias del coche de cualquier cliente usuario para la nueva app de la empresa.\n",
    "\n",
    "### Objetivos particulares\n",
    "\n",
    "- Que el modelo cumpla con una alta calidad de la predicción.\n",
    "- Obtener una buena velocidad en la predicción.\n",
    "- Que el tiempo requerido para el entrenamiento sea el menor posible."
   ]
  },
  {
   "cell_type": "code",
   "execution_count": 1,
   "metadata": {},
   "outputs": [
    {
     "name": "stdout",
     "output_type": "stream",
     "text": [
      "Requirement already satisfied: lightgbm in /opt/conda/lib/python3.9/site-packages (3.3.1)\n",
      "Requirement already satisfied: scikit-learn!=0.22.0 in /opt/conda/lib/python3.9/site-packages (from lightgbm) (0.24.1)\n",
      "Requirement already satisfied: numpy in /opt/conda/lib/python3.9/site-packages (from lightgbm) (1.21.1)\n",
      "Requirement already satisfied: wheel in /opt/conda/lib/python3.9/site-packages (from lightgbm) (0.36.2)\n",
      "Requirement already satisfied: scipy in /opt/conda/lib/python3.9/site-packages (from lightgbm) (1.8.0)\n",
      "Requirement already satisfied: joblib>=0.11 in /opt/conda/lib/python3.9/site-packages (from scikit-learn!=0.22.0->lightgbm) (1.1.0)\n",
      "Requirement already satisfied: threadpoolctl>=2.0.0 in /opt/conda/lib/python3.9/site-packages (from scikit-learn!=0.22.0->lightgbm) (3.1.0)\n"
     ]
    }
   ],
   "source": [
    "# instalar librerías que se van a utilizar\n",
    "!pip install lightgbm"
   ]
  },
  {
   "cell_type": "code",
   "execution_count": 2,
   "metadata": {},
   "outputs": [],
   "source": [
    "# importar librerias que se van a utilizar\n",
    "\n",
    "import pandas as pd\n",
    "import numpy as np\n",
    "\n",
    "## para la imputación de valores ausentes\n",
    "#from sklearn.impute import SimpleImputer\n",
    "\n",
    "## para la estandarización de datos\n",
    "from sklearn.preprocessing import StandardScaler\n",
    "\n",
    "## para la división y subconjunto de datos (train y test)\n",
    "from sklearn.model_selection import train_test_split\n",
    "\n",
    "## para importar métricas de evaluación\n",
    "from sklearn.metrics import r2_score, mean_squared_error\n",
    "\n",
    "## para medir el tiempo que tarda en ejecutarse un proceso\n",
    "import time\n",
    "\n",
    "## para hacer modelos de aprendizaje GBDT\n",
    "import lightgbm as lgb\n",
    "\n",
    "## para crear modelo de regresión lineal\n",
    "from sklearn.linear_model import LinearRegression\n",
    "\n",
    "## para graficar\n",
    "import matplotlib.pyplot as plt"
   ]
  },
  {
   "cell_type": "code",
   "execution_count": 3,
   "metadata": {},
   "outputs": [],
   "source": [
    "# importar la base de datos que se va a utilizar\n",
    "\n",
    "try:\n",
    "    df = pd.read_csv('/datasets/car_data.csv')\n",
    "except:\n",
    "    df = pd.read_csv('car_data.csv')"
   ]
  },
  {
   "cell_type": "code",
   "execution_count": 4,
   "metadata": {},
   "outputs": [
    {
     "name": "stdout",
     "output_type": "stream",
     "text": [
      "<class 'pandas.core.frame.DataFrame'>\n",
      "RangeIndex: 354369 entries, 0 to 354368\n",
      "Data columns (total 16 columns):\n",
      " #   Column             Non-Null Count   Dtype \n",
      "---  ------             --------------   ----- \n",
      " 0   DateCrawled        354369 non-null  object\n",
      " 1   Price              354369 non-null  int64 \n",
      " 2   VehicleType        316879 non-null  object\n",
      " 3   RegistrationYear   354369 non-null  int64 \n",
      " 4   Gearbox            334536 non-null  object\n",
      " 5   Power              354369 non-null  int64 \n",
      " 6   Model              334664 non-null  object\n",
      " 7   Mileage            354369 non-null  int64 \n",
      " 8   RegistrationMonth  354369 non-null  int64 \n",
      " 9   FuelType           321474 non-null  object\n",
      " 10  Brand              354369 non-null  object\n",
      " 11  NotRepaired        283215 non-null  object\n",
      " 12  DateCreated        354369 non-null  object\n",
      " 13  NumberOfPictures   354369 non-null  int64 \n",
      " 14  PostalCode         354369 non-null  int64 \n",
      " 15  LastSeen           354369 non-null  object\n",
      "dtypes: int64(7), object(9)\n",
      "memory usage: 43.3+ MB\n",
      "None\n"
     ]
    }
   ],
   "source": [
    "print(df.info())"
   ]
  },
  {
   "cell_type": "code",
   "execution_count": 5,
   "metadata": {},
   "outputs": [
    {
     "data": {
      "text/html": [
       "<div>\n",
       "<style scoped>\n",
       "    .dataframe tbody tr th:only-of-type {\n",
       "        vertical-align: middle;\n",
       "    }\n",
       "\n",
       "    .dataframe tbody tr th {\n",
       "        vertical-align: top;\n",
       "    }\n",
       "\n",
       "    .dataframe thead th {\n",
       "        text-align: right;\n",
       "    }\n",
       "</style>\n",
       "<table border=\"1\" class=\"dataframe\">\n",
       "  <thead>\n",
       "    <tr style=\"text-align: right;\">\n",
       "      <th></th>\n",
       "      <th>DateCrawled</th>\n",
       "      <th>Price</th>\n",
       "      <th>VehicleType</th>\n",
       "      <th>RegistrationYear</th>\n",
       "      <th>Gearbox</th>\n",
       "      <th>Power</th>\n",
       "      <th>Model</th>\n",
       "      <th>Mileage</th>\n",
       "      <th>RegistrationMonth</th>\n",
       "      <th>FuelType</th>\n",
       "      <th>Brand</th>\n",
       "      <th>NotRepaired</th>\n",
       "      <th>DateCreated</th>\n",
       "      <th>NumberOfPictures</th>\n",
       "      <th>PostalCode</th>\n",
       "      <th>LastSeen</th>\n",
       "    </tr>\n",
       "  </thead>\n",
       "  <tbody>\n",
       "    <tr>\n",
       "      <th>0</th>\n",
       "      <td>24/03/2016 11:52</td>\n",
       "      <td>480</td>\n",
       "      <td>NaN</td>\n",
       "      <td>1993</td>\n",
       "      <td>manual</td>\n",
       "      <td>0</td>\n",
       "      <td>golf</td>\n",
       "      <td>150000</td>\n",
       "      <td>0</td>\n",
       "      <td>petrol</td>\n",
       "      <td>volkswagen</td>\n",
       "      <td>NaN</td>\n",
       "      <td>24/03/2016 00:00</td>\n",
       "      <td>0</td>\n",
       "      <td>70435</td>\n",
       "      <td>07/04/2016 03:16</td>\n",
       "    </tr>\n",
       "    <tr>\n",
       "      <th>1</th>\n",
       "      <td>24/03/2016 10:58</td>\n",
       "      <td>18300</td>\n",
       "      <td>coupe</td>\n",
       "      <td>2011</td>\n",
       "      <td>manual</td>\n",
       "      <td>190</td>\n",
       "      <td>NaN</td>\n",
       "      <td>125000</td>\n",
       "      <td>5</td>\n",
       "      <td>gasoline</td>\n",
       "      <td>audi</td>\n",
       "      <td>yes</td>\n",
       "      <td>24/03/2016 00:00</td>\n",
       "      <td>0</td>\n",
       "      <td>66954</td>\n",
       "      <td>07/04/2016 01:46</td>\n",
       "    </tr>\n",
       "    <tr>\n",
       "      <th>2</th>\n",
       "      <td>14/03/2016 12:52</td>\n",
       "      <td>9800</td>\n",
       "      <td>suv</td>\n",
       "      <td>2004</td>\n",
       "      <td>auto</td>\n",
       "      <td>163</td>\n",
       "      <td>grand</td>\n",
       "      <td>125000</td>\n",
       "      <td>8</td>\n",
       "      <td>gasoline</td>\n",
       "      <td>jeep</td>\n",
       "      <td>NaN</td>\n",
       "      <td>14/03/2016 00:00</td>\n",
       "      <td>0</td>\n",
       "      <td>90480</td>\n",
       "      <td>05/04/2016 12:47</td>\n",
       "    </tr>\n",
       "    <tr>\n",
       "      <th>3</th>\n",
       "      <td>17/03/2016 16:54</td>\n",
       "      <td>1500</td>\n",
       "      <td>small</td>\n",
       "      <td>2001</td>\n",
       "      <td>manual</td>\n",
       "      <td>75</td>\n",
       "      <td>golf</td>\n",
       "      <td>150000</td>\n",
       "      <td>6</td>\n",
       "      <td>petrol</td>\n",
       "      <td>volkswagen</td>\n",
       "      <td>no</td>\n",
       "      <td>17/03/2016 00:00</td>\n",
       "      <td>0</td>\n",
       "      <td>91074</td>\n",
       "      <td>17/03/2016 17:40</td>\n",
       "    </tr>\n",
       "    <tr>\n",
       "      <th>4</th>\n",
       "      <td>31/03/2016 17:25</td>\n",
       "      <td>3600</td>\n",
       "      <td>small</td>\n",
       "      <td>2008</td>\n",
       "      <td>manual</td>\n",
       "      <td>69</td>\n",
       "      <td>fabia</td>\n",
       "      <td>90000</td>\n",
       "      <td>7</td>\n",
       "      <td>gasoline</td>\n",
       "      <td>skoda</td>\n",
       "      <td>no</td>\n",
       "      <td>31/03/2016 00:00</td>\n",
       "      <td>0</td>\n",
       "      <td>60437</td>\n",
       "      <td>06/04/2016 10:17</td>\n",
       "    </tr>\n",
       "  </tbody>\n",
       "</table>\n",
       "</div>"
      ],
      "text/plain": [
       "        DateCrawled  Price VehicleType  RegistrationYear Gearbox  Power  \\\n",
       "0  24/03/2016 11:52    480         NaN              1993  manual      0   \n",
       "1  24/03/2016 10:58  18300       coupe              2011  manual    190   \n",
       "2  14/03/2016 12:52   9800         suv              2004    auto    163   \n",
       "3  17/03/2016 16:54   1500       small              2001  manual     75   \n",
       "4  31/03/2016 17:25   3600       small              2008  manual     69   \n",
       "\n",
       "   Model  Mileage  RegistrationMonth  FuelType       Brand NotRepaired  \\\n",
       "0   golf   150000                  0    petrol  volkswagen         NaN   \n",
       "1    NaN   125000                  5  gasoline        audi         yes   \n",
       "2  grand   125000                  8  gasoline        jeep         NaN   \n",
       "3   golf   150000                  6    petrol  volkswagen          no   \n",
       "4  fabia    90000                  7  gasoline       skoda          no   \n",
       "\n",
       "        DateCreated  NumberOfPictures  PostalCode          LastSeen  \n",
       "0  24/03/2016 00:00                 0       70435  07/04/2016 03:16  \n",
       "1  24/03/2016 00:00                 0       66954  07/04/2016 01:46  \n",
       "2  14/03/2016 00:00                 0       90480  05/04/2016 12:47  \n",
       "3  17/03/2016 00:00                 0       91074  17/03/2016 17:40  \n",
       "4  31/03/2016 00:00                 0       60437  06/04/2016 10:17  "
      ]
     },
     "execution_count": 5,
     "metadata": {},
     "output_type": "execute_result"
    }
   ],
   "source": [
    "df.head()"
   ]
  },
  {
   "cell_type": "code",
   "execution_count": 6,
   "metadata": {},
   "outputs": [
    {
     "data": {
      "text/html": [
       "<div>\n",
       "<style scoped>\n",
       "    .dataframe tbody tr th:only-of-type {\n",
       "        vertical-align: middle;\n",
       "    }\n",
       "\n",
       "    .dataframe tbody tr th {\n",
       "        vertical-align: top;\n",
       "    }\n",
       "\n",
       "    .dataframe thead th {\n",
       "        text-align: right;\n",
       "    }\n",
       "</style>\n",
       "<table border=\"1\" class=\"dataframe\">\n",
       "  <thead>\n",
       "    <tr style=\"text-align: right;\">\n",
       "      <th></th>\n",
       "      <th>Price</th>\n",
       "      <th>RegistrationYear</th>\n",
       "      <th>Power</th>\n",
       "      <th>Mileage</th>\n",
       "      <th>RegistrationMonth</th>\n",
       "      <th>NumberOfPictures</th>\n",
       "      <th>PostalCode</th>\n",
       "    </tr>\n",
       "  </thead>\n",
       "  <tbody>\n",
       "    <tr>\n",
       "      <th>count</th>\n",
       "      <td>354369.000000</td>\n",
       "      <td>354369.000000</td>\n",
       "      <td>354369.000000</td>\n",
       "      <td>354369.000000</td>\n",
       "      <td>354369.000000</td>\n",
       "      <td>354369.0</td>\n",
       "      <td>354369.000000</td>\n",
       "    </tr>\n",
       "    <tr>\n",
       "      <th>mean</th>\n",
       "      <td>4416.656776</td>\n",
       "      <td>2004.234448</td>\n",
       "      <td>110.094337</td>\n",
       "      <td>128211.172535</td>\n",
       "      <td>5.714645</td>\n",
       "      <td>0.0</td>\n",
       "      <td>50508.689087</td>\n",
       "    </tr>\n",
       "    <tr>\n",
       "      <th>std</th>\n",
       "      <td>4514.158514</td>\n",
       "      <td>90.227958</td>\n",
       "      <td>189.850405</td>\n",
       "      <td>37905.341530</td>\n",
       "      <td>3.726421</td>\n",
       "      <td>0.0</td>\n",
       "      <td>25783.096248</td>\n",
       "    </tr>\n",
       "    <tr>\n",
       "      <th>min</th>\n",
       "      <td>0.000000</td>\n",
       "      <td>1000.000000</td>\n",
       "      <td>0.000000</td>\n",
       "      <td>5000.000000</td>\n",
       "      <td>0.000000</td>\n",
       "      <td>0.0</td>\n",
       "      <td>1067.000000</td>\n",
       "    </tr>\n",
       "    <tr>\n",
       "      <th>25%</th>\n",
       "      <td>1050.000000</td>\n",
       "      <td>1999.000000</td>\n",
       "      <td>69.000000</td>\n",
       "      <td>125000.000000</td>\n",
       "      <td>3.000000</td>\n",
       "      <td>0.0</td>\n",
       "      <td>30165.000000</td>\n",
       "    </tr>\n",
       "    <tr>\n",
       "      <th>50%</th>\n",
       "      <td>2700.000000</td>\n",
       "      <td>2003.000000</td>\n",
       "      <td>105.000000</td>\n",
       "      <td>150000.000000</td>\n",
       "      <td>6.000000</td>\n",
       "      <td>0.0</td>\n",
       "      <td>49413.000000</td>\n",
       "    </tr>\n",
       "    <tr>\n",
       "      <th>75%</th>\n",
       "      <td>6400.000000</td>\n",
       "      <td>2008.000000</td>\n",
       "      <td>143.000000</td>\n",
       "      <td>150000.000000</td>\n",
       "      <td>9.000000</td>\n",
       "      <td>0.0</td>\n",
       "      <td>71083.000000</td>\n",
       "    </tr>\n",
       "    <tr>\n",
       "      <th>max</th>\n",
       "      <td>20000.000000</td>\n",
       "      <td>9999.000000</td>\n",
       "      <td>20000.000000</td>\n",
       "      <td>150000.000000</td>\n",
       "      <td>12.000000</td>\n",
       "      <td>0.0</td>\n",
       "      <td>99998.000000</td>\n",
       "    </tr>\n",
       "  </tbody>\n",
       "</table>\n",
       "</div>"
      ],
      "text/plain": [
       "               Price  RegistrationYear          Power        Mileage  \\\n",
       "count  354369.000000     354369.000000  354369.000000  354369.000000   \n",
       "mean     4416.656776       2004.234448     110.094337  128211.172535   \n",
       "std      4514.158514         90.227958     189.850405   37905.341530   \n",
       "min         0.000000       1000.000000       0.000000    5000.000000   \n",
       "25%      1050.000000       1999.000000      69.000000  125000.000000   \n",
       "50%      2700.000000       2003.000000     105.000000  150000.000000   \n",
       "75%      6400.000000       2008.000000     143.000000  150000.000000   \n",
       "max     20000.000000       9999.000000   20000.000000  150000.000000   \n",
       "\n",
       "       RegistrationMonth  NumberOfPictures     PostalCode  \n",
       "count      354369.000000          354369.0  354369.000000  \n",
       "mean            5.714645               0.0   50508.689087  \n",
       "std             3.726421               0.0   25783.096248  \n",
       "min             0.000000               0.0    1067.000000  \n",
       "25%             3.000000               0.0   30165.000000  \n",
       "50%             6.000000               0.0   49413.000000  \n",
       "75%             9.000000               0.0   71083.000000  \n",
       "max            12.000000               0.0   99998.000000  "
      ]
     },
     "execution_count": 6,
     "metadata": {},
     "output_type": "execute_result"
    }
   ],
   "source": [
    "df.describe()"
   ]
  },
  {
   "cell_type": "markdown",
   "metadata": {},
   "source": [
    "## Descripción de los datos\n",
    "\n",
    "### Datos utilizados como características\n",
    "\n",
    "- **DateCrawled** — *fecha en la que se descargó el perfil de la base de datos*\n",
    "-  **VehicleType** — *tipo de carrocería del vehículo*\n",
    "- **RegistrationYear** — *año de matriculación del vehículo*\n",
    "- **Gearbox** — *tipo de caja de cambios*\n",
    "- **Power** — *potencia (CV)*\n",
    "- **Model** — *modelo del vehículo*\n",
    "- **Mileage** — *kilometraje (medido en km de acuerdo con las especificidades regionales del conjunto de datos)*\n",
    "- **RegistrationMonth** — *mes de matriculación del vehículo*\n",
    "- **FuelType** — *tipo de combustible*\n",
    "- **Brand** — *marca del vehículo*\n",
    "- **NotRepaired** — *vehículo con o sin reparación*\n",
    "- **DateCreated** — *fecha de creación del perfil*\n",
    "- **NumberOfPictures** — *número de fotos del vehículo*\n",
    "- **PostalCode** — *código postal del propietario del perfil (usuario)*\n",
    "- **LastSeen** — *fecha de la última vez que el usuario estuvo activo*\n",
    "\n",
    "\n",
    "### Datos utilizados como objetivo\n",
    "\n",
    "- **Price** — *precio (en euros)*"
   ]
  },
  {
   "cell_type": "markdown",
   "metadata": {},
   "source": [
    "## Preprocesamiento de datos\n",
    "### Limpieza de datos\n",
    "En el proceso de disminuir la cantidad de datos con los que se estará trabajando y para una mayor claridad es la razón por la cual eliminaremos algunas columnas que nos estarán considerando de interés por motivos racionales."
   ]
  },
  {
   "cell_type": "code",
   "execution_count": 7,
   "metadata": {},
   "outputs": [],
   "source": [
    "# eliminando columnas de poco valor para el entrenamiento del modelo\n",
    "low_value_features = ['DateCrawled','RegistrationMonth','DateCreated','NumberOfPictures','PostalCode','LastSeen']\n",
    "df.drop(low_value_features, axis=1, inplace=True)"
   ]
  },
  {
   "cell_type": "code",
   "execution_count": 8,
   "metadata": {},
   "outputs": [],
   "source": [
    "# aplicando el formato \"sneake_case\" a los nombres de las columnas\n",
    "rename_columns = {\n",
    "    'Price' : 'price',\n",
    "    'VehicleType' : 'vehicle_type',\n",
    "    'RegistrationYear' : 'registration_year',\n",
    "    'Gearbox' : 'gearbox',\n",
    "    'Power' : 'power',\n",
    "    'Model' : 'model',\n",
    "    'Mileage' : 'mileage',\n",
    "    'FuelType' : 'fuel_type',\n",
    "    'Brand' : 'brand',\n",
    "    'NotRepaired' : 'not_repaired'\n",
    "}\n",
    "df.rename(columns=rename_columns, inplace=True)"
   ]
  },
  {
   "cell_type": "code",
   "execution_count": 9,
   "metadata": {},
   "outputs": [
    {
     "name": "stdout",
     "output_type": "stream",
     "text": [
      "<class 'pandas.core.frame.DataFrame'>\n",
      "RangeIndex: 354369 entries, 0 to 354368\n",
      "Data columns (total 10 columns):\n",
      " #   Column             Non-Null Count   Dtype \n",
      "---  ------             --------------   ----- \n",
      " 0   price              354369 non-null  int64 \n",
      " 1   vehicle_type       316879 non-null  object\n",
      " 2   registration_year  354369 non-null  int64 \n",
      " 3   gearbox            334536 non-null  object\n",
      " 4   power              354369 non-null  int64 \n",
      " 5   model              334664 non-null  object\n",
      " 6   mileage            354369 non-null  int64 \n",
      " 7   fuel_type          321474 non-null  object\n",
      " 8   brand              354369 non-null  object\n",
      " 9   not_repaired       283215 non-null  object\n",
      "dtypes: int64(4), object(6)\n",
      "memory usage: 27.0+ MB\n"
     ]
    }
   ],
   "source": [
    "df.info()"
   ]
  },
  {
   "cell_type": "markdown",
   "metadata": {},
   "source": [
    "Se observa que la tipografía en cada uno de los datos es la correcta por lo que no es necesario hacer correcciones de carácter tipográfico."
   ]
  },
  {
   "cell_type": "code",
   "execution_count": 10,
   "metadata": {},
   "outputs": [
    {
     "name": "stdout",
     "output_type": "stream",
     "text": [
      "La cantidad de observaciones que quedan después de eliminar los valores ausentes es de 69.4%.\n"
     ]
    }
   ],
   "source": [
    "# calculo de porcentaje de pérdida en caso de eliminar los valores ausentes\n",
    "df_withoutna = (df.dropna().shape[0])/(df.shape[0])\n",
    "print(f'La cantidad de observaciones que quedan después de eliminar los valores ausentes es de {df_withoutna :.1%}.')"
   ]
  },
  {
   "cell_type": "markdown",
   "metadata": {},
   "source": [
    "Debido a la alta pérdida de datos que se tendrían la estrategia que seguiremos será la de imputar valores ausentes, si bien genera un pequeños sezgo de a los posibles valores reales, la información que se evita perder brindará mejores pronósticos para el entrenamiento de nuestros modelos."
   ]
  },
  {
   "cell_type": "code",
   "execution_count": 11,
   "metadata": {},
   "outputs": [
    {
     "data": {
      "text/html": [
       "<div>\n",
       "<style scoped>\n",
       "    .dataframe tbody tr th:only-of-type {\n",
       "        vertical-align: middle;\n",
       "    }\n",
       "\n",
       "    .dataframe tbody tr th {\n",
       "        vertical-align: top;\n",
       "    }\n",
       "\n",
       "    .dataframe thead th {\n",
       "        text-align: right;\n",
       "    }\n",
       "</style>\n",
       "<table border=\"1\" class=\"dataframe\">\n",
       "  <thead>\n",
       "    <tr style=\"text-align: right;\">\n",
       "      <th></th>\n",
       "      <th>price</th>\n",
       "      <th>registration_year</th>\n",
       "      <th>power</th>\n",
       "      <th>mileage</th>\n",
       "    </tr>\n",
       "  </thead>\n",
       "  <tbody>\n",
       "    <tr>\n",
       "      <th>count</th>\n",
       "      <td>354369.000000</td>\n",
       "      <td>354369.000000</td>\n",
       "      <td>354369.000000</td>\n",
       "      <td>354369.000000</td>\n",
       "    </tr>\n",
       "    <tr>\n",
       "      <th>mean</th>\n",
       "      <td>4416.656776</td>\n",
       "      <td>2004.234448</td>\n",
       "      <td>110.094337</td>\n",
       "      <td>128211.172535</td>\n",
       "    </tr>\n",
       "    <tr>\n",
       "      <th>std</th>\n",
       "      <td>4514.158514</td>\n",
       "      <td>90.227958</td>\n",
       "      <td>189.850405</td>\n",
       "      <td>37905.341530</td>\n",
       "    </tr>\n",
       "    <tr>\n",
       "      <th>min</th>\n",
       "      <td>0.000000</td>\n",
       "      <td>1000.000000</td>\n",
       "      <td>0.000000</td>\n",
       "      <td>5000.000000</td>\n",
       "    </tr>\n",
       "    <tr>\n",
       "      <th>25%</th>\n",
       "      <td>1050.000000</td>\n",
       "      <td>1999.000000</td>\n",
       "      <td>69.000000</td>\n",
       "      <td>125000.000000</td>\n",
       "    </tr>\n",
       "    <tr>\n",
       "      <th>50%</th>\n",
       "      <td>2700.000000</td>\n",
       "      <td>2003.000000</td>\n",
       "      <td>105.000000</td>\n",
       "      <td>150000.000000</td>\n",
       "    </tr>\n",
       "    <tr>\n",
       "      <th>75%</th>\n",
       "      <td>6400.000000</td>\n",
       "      <td>2008.000000</td>\n",
       "      <td>143.000000</td>\n",
       "      <td>150000.000000</td>\n",
       "    </tr>\n",
       "    <tr>\n",
       "      <th>max</th>\n",
       "      <td>20000.000000</td>\n",
       "      <td>9999.000000</td>\n",
       "      <td>20000.000000</td>\n",
       "      <td>150000.000000</td>\n",
       "    </tr>\n",
       "  </tbody>\n",
       "</table>\n",
       "</div>"
      ],
      "text/plain": [
       "               price  registration_year          power        mileage\n",
       "count  354369.000000      354369.000000  354369.000000  354369.000000\n",
       "mean     4416.656776        2004.234448     110.094337  128211.172535\n",
       "std      4514.158514          90.227958     189.850405   37905.341530\n",
       "min         0.000000        1000.000000       0.000000    5000.000000\n",
       "25%      1050.000000        1999.000000      69.000000  125000.000000\n",
       "50%      2700.000000        2003.000000     105.000000  150000.000000\n",
       "75%      6400.000000        2008.000000     143.000000  150000.000000\n",
       "max     20000.000000        9999.000000   20000.000000  150000.000000"
      ]
     },
     "execution_count": 11,
     "metadata": {},
     "output_type": "execute_result"
    }
   ],
   "source": [
    "# observar las estadísticas primarias de las columnas con valores cuantitativos\n",
    "df.describe()"
   ]
  },
  {
   "cell_type": "code",
   "execution_count": 12,
   "metadata": {},
   "outputs": [
    {
     "data": {
      "image/png": "[encoded data removed]",
      "text/plain": [
       "<Figure size 648x648 with 2 Axes>"
      ]
     },
     "metadata": {
      "needs_background": "light"
     },
     "output_type": "display_data"
    }
   ],
   "source": [
    "## solucionando el comentario anterior\n",
    "\n",
    "plt.figure(figsize=(9,9))\n",
    "plt.subplot(2,1,1)\n",
    "df.boxplot(column = ['power'])\n",
    "plt.subplot(2,1,2)\n",
    "df.boxplot(column=['registration_year'])\n",
    "plt.show()"
   ]
  },
  {
   "cell_type": "markdown",
   "metadata": {},
   "source": [
    "Existen muchos valores atípicos por lo cual se procederá a eliminarlos"
   ]
  },
  {
   "cell_type": "code",
   "execution_count": 13,
   "metadata": {},
   "outputs": [],
   "source": [
    "# Creamos una función que elimine valores atípicos dependientes de columna\n",
    "\n",
    "def drop_av(df, column):\n",
    "    temp = df[column]\n",
    "    Q1 = df[column].quantile(0.25)\n",
    "    Q3 = df[column].quantile(0.75)\n",
    "    IQR = Q3-Q1\n",
    "    bottom_limit = Q1-(1.5*IQR)\n",
    "    upper_limit = Q3+(1.5*IQR)\n",
    "    df = df.query('@temp > @bottom_limit and @temp < @upper_limit')\n",
    "    return df"
   ]
  },
  {
   "cell_type": "code",
   "execution_count": 14,
   "metadata": {},
   "outputs": [],
   "source": [
    "# se ejecuta la función anterior\n",
    "df = drop_av(df, 'power')\n",
    "df = drop_av(df, 'registration_year')"
   ]
  },
  {
   "cell_type": "code",
   "execution_count": 15,
   "metadata": {},
   "outputs": [
    {
     "data": {
      "image/png": "[encoded data removed]",
      "text/plain": [
       "<Figure size 648x648 with 2 Axes>"
      ]
     },
     "metadata": {
      "needs_background": "light"
     },
     "output_type": "display_data"
    }
   ],
   "source": [
    "plt.figure(figsize=(9,9))\n",
    "plt.subplot(2,1,1)\n",
    "df.boxplot(column = ['power'])\n",
    "plt.subplot(2,1,2)\n",
    "df.boxplot(column=['registration_year'])\n",
    "plt.show()"
   ]
  },
  {
   "cell_type": "markdown",
   "metadata": {},
   "source": [
    "Se observa que las características con valores cuantitativos no contienen valores ausentes sino que éstos se encuentran en las columnas de las características con valores cualitativos los cuales los pudiéramos tratar con OHE. Existen algunas columnas como `model` o `brand` que provocarán una gran cantidad de columnas, sin embargo, es necesario que la base de datos reconozca estas características con gran interés ya que una buena parte de este valor tendrá un gran peso en la predicción del precio."
   ]
  },
  {
   "cell_type": "code",
   "execution_count": 16,
   "metadata": {},
   "outputs": [],
   "source": [
    "## corrigiendo el comentario anterior\n",
    "data = df.fillna('unknown')"
   ]
  },
  {
   "cell_type": "code",
   "execution_count": 17,
   "metadata": {
    "scrolled": true
   },
   "outputs": [],
   "source": [
    "data = pd.get_dummies(df, drop_first=True)"
   ]
  },
  {
   "cell_type": "markdown",
   "metadata": {},
   "source": [
    "### Preparación de datos"
   ]
  },
  {
   "cell_type": "code",
   "execution_count": 18,
   "metadata": {
    "scrolled": true
   },
   "outputs": [
    {
     "data": {
      "text/html": [
       "<div>\n",
       "<style scoped>\n",
       "    .dataframe tbody tr th:only-of-type {\n",
       "        vertical-align: middle;\n",
       "    }\n",
       "\n",
       "    .dataframe tbody tr th {\n",
       "        vertical-align: top;\n",
       "    }\n",
       "\n",
       "    .dataframe thead th {\n",
       "        text-align: right;\n",
       "    }\n",
       "</style>\n",
       "<table border=\"1\" class=\"dataframe\">\n",
       "  <thead>\n",
       "    <tr style=\"text-align: right;\">\n",
       "      <th></th>\n",
       "      <th>price</th>\n",
       "      <th>registration_year</th>\n",
       "      <th>power</th>\n",
       "      <th>mileage</th>\n",
       "      <th>vehicle_type_convertible</th>\n",
       "      <th>vehicle_type_coupe</th>\n",
       "      <th>vehicle_type_other</th>\n",
       "      <th>vehicle_type_sedan</th>\n",
       "      <th>vehicle_type_small</th>\n",
       "      <th>vehicle_type_suv</th>\n",
       "      <th>...</th>\n",
       "      <th>brand_skoda</th>\n",
       "      <th>brand_smart</th>\n",
       "      <th>brand_sonstige_autos</th>\n",
       "      <th>brand_subaru</th>\n",
       "      <th>brand_suzuki</th>\n",
       "      <th>brand_toyota</th>\n",
       "      <th>brand_trabant</th>\n",
       "      <th>brand_volkswagen</th>\n",
       "      <th>brand_volvo</th>\n",
       "      <th>not_repaired_yes</th>\n",
       "    </tr>\n",
       "  </thead>\n",
       "  <tbody>\n",
       "    <tr>\n",
       "      <th>0</th>\n",
       "      <td>480</td>\n",
       "      <td>-1.654579</td>\n",
       "      <td>-1.826334</td>\n",
       "      <td>0.569253</td>\n",
       "      <td>0</td>\n",
       "      <td>0</td>\n",
       "      <td>0</td>\n",
       "      <td>0</td>\n",
       "      <td>0</td>\n",
       "      <td>0</td>\n",
       "      <td>...</td>\n",
       "      <td>0</td>\n",
       "      <td>0</td>\n",
       "      <td>0</td>\n",
       "      <td>0</td>\n",
       "      <td>0</td>\n",
       "      <td>0</td>\n",
       "      <td>0</td>\n",
       "      <td>1</td>\n",
       "      <td>0</td>\n",
       "      <td>0</td>\n",
       "    </tr>\n",
       "    <tr>\n",
       "      <th>1</th>\n",
       "      <td>18300</td>\n",
       "      <td>1.160785</td>\n",
       "      <td>1.539047</td>\n",
       "      <td>-0.100732</td>\n",
       "      <td>0</td>\n",
       "      <td>1</td>\n",
       "      <td>0</td>\n",
       "      <td>0</td>\n",
       "      <td>0</td>\n",
       "      <td>0</td>\n",
       "      <td>...</td>\n",
       "      <td>0</td>\n",
       "      <td>0</td>\n",
       "      <td>0</td>\n",
       "      <td>0</td>\n",
       "      <td>0</td>\n",
       "      <td>0</td>\n",
       "      <td>0</td>\n",
       "      <td>0</td>\n",
       "      <td>0</td>\n",
       "      <td>1</td>\n",
       "    </tr>\n",
       "    <tr>\n",
       "      <th>2</th>\n",
       "      <td>9800</td>\n",
       "      <td>0.065921</td>\n",
       "      <td>1.060809</td>\n",
       "      <td>-0.100732</td>\n",
       "      <td>0</td>\n",
       "      <td>0</td>\n",
       "      <td>0</td>\n",
       "      <td>0</td>\n",
       "      <td>0</td>\n",
       "      <td>1</td>\n",
       "      <td>...</td>\n",
       "      <td>0</td>\n",
       "      <td>0</td>\n",
       "      <td>0</td>\n",
       "      <td>0</td>\n",
       "      <td>0</td>\n",
       "      <td>0</td>\n",
       "      <td>0</td>\n",
       "      <td>0</td>\n",
       "      <td>0</td>\n",
       "      <td>0</td>\n",
       "    </tr>\n",
       "    <tr>\n",
       "      <th>3</th>\n",
       "      <td>1500</td>\n",
       "      <td>-0.403306</td>\n",
       "      <td>-0.497894</td>\n",
       "      <td>0.569253</td>\n",
       "      <td>0</td>\n",
       "      <td>0</td>\n",
       "      <td>0</td>\n",
       "      <td>0</td>\n",
       "      <td>1</td>\n",
       "      <td>0</td>\n",
       "      <td>...</td>\n",
       "      <td>0</td>\n",
       "      <td>0</td>\n",
       "      <td>0</td>\n",
       "      <td>0</td>\n",
       "      <td>0</td>\n",
       "      <td>0</td>\n",
       "      <td>0</td>\n",
       "      <td>1</td>\n",
       "      <td>0</td>\n",
       "      <td>0</td>\n",
       "    </tr>\n",
       "    <tr>\n",
       "      <th>4</th>\n",
       "      <td>3600</td>\n",
       "      <td>0.691557</td>\n",
       "      <td>-0.604169</td>\n",
       "      <td>-1.038711</td>\n",
       "      <td>0</td>\n",
       "      <td>0</td>\n",
       "      <td>0</td>\n",
       "      <td>0</td>\n",
       "      <td>1</td>\n",
       "      <td>0</td>\n",
       "      <td>...</td>\n",
       "      <td>1</td>\n",
       "      <td>0</td>\n",
       "      <td>0</td>\n",
       "      <td>0</td>\n",
       "      <td>0</td>\n",
       "      <td>0</td>\n",
       "      <td>0</td>\n",
       "      <td>0</td>\n",
       "      <td>0</td>\n",
       "      <td>0</td>\n",
       "    </tr>\n",
       "  </tbody>\n",
       "</table>\n",
       "<p>5 rows × 304 columns</p>\n",
       "</div>"
      ],
      "text/plain": [
       "   price  registration_year     power   mileage  vehicle_type_convertible  \\\n",
       "0    480          -1.654579 -1.826334  0.569253                         0   \n",
       "1  18300           1.160785  1.539047 -0.100732                         0   \n",
       "2   9800           0.065921  1.060809 -0.100732                         0   \n",
       "3   1500          -0.403306 -0.497894  0.569253                         0   \n",
       "4   3600           0.691557 -0.604169 -1.038711                         0   \n",
       "\n",
       "   vehicle_type_coupe  vehicle_type_other  vehicle_type_sedan  \\\n",
       "0                   0                   0                   0   \n",
       "1                   1                   0                   0   \n",
       "2                   0                   0                   0   \n",
       "3                   0                   0                   0   \n",
       "4                   0                   0                   0   \n",
       "\n",
       "   vehicle_type_small  vehicle_type_suv  ...  brand_skoda  brand_smart  \\\n",
       "0                   0                 0  ...            0            0   \n",
       "1                   0                 0  ...            0            0   \n",
       "2                   0                 1  ...            0            0   \n",
       "3                   1                 0  ...            0            0   \n",
       "4                   1                 0  ...            1            0   \n",
       "\n",
       "   brand_sonstige_autos  brand_subaru  brand_suzuki  brand_toyota  \\\n",
       "0                     0             0             0             0   \n",
       "1                     0             0             0             0   \n",
       "2                     0             0             0             0   \n",
       "3                     0             0             0             0   \n",
       "4                     0             0             0             0   \n",
       "\n",
       "   brand_trabant  brand_volkswagen  brand_volvo  not_repaired_yes  \n",
       "0              0                 1            0                 0  \n",
       "1              0                 0            0                 1  \n",
       "2              0                 0            0                 0  \n",
       "3              0                 1            0                 0  \n",
       "4              0                 0            0                 0  \n",
       "\n",
       "[5 rows x 304 columns]"
      ]
     },
     "execution_count": 18,
     "metadata": {},
     "output_type": "execute_result"
    }
   ],
   "source": [
    "# se van a manejar lo datos de manera estandarziada\n",
    "to_std = ['registration_year','power','mileage']\n",
    "scaler = StandardScaler()\n",
    "scaler.fit(data[to_std])\n",
    "data_scaled = data\n",
    "data_scaled[to_std]= scaler.transform(data_scaled[to_std])\n",
    "data_scaled.head()"
   ]
  },
  {
   "cell_type": "code",
   "execution_count": 19,
   "metadata": {},
   "outputs": [],
   "source": [
    "# crear el conjunto de entrenamiento y de prueba\n",
    "\n",
    "X_train, X_test, y_train, y_test = train_test_split(data_scaled.drop(['price'], axis=1), data_scaled['price'], random_state=300623, test_size=0.25)"
   ]
  },
  {
   "cell_type": "markdown",
   "metadata": {},
   "source": [
    "## Entrenamiento del modelo \n",
    "### Entrenamiento con modelo de regresión lineal"
   ]
  },
  {
   "cell_type": "code",
   "execution_count": 20,
   "metadata": {},
   "outputs": [
    {
     "name": "stdout",
     "output_type": "stream",
     "text": [
      " r2_score: 0.47567845191451974.\n",
      " RECM: 2565.024252882704.\n",
      " Tiempo total de entrenamiento: 19.631128311157227.\n"
     ]
    }
   ],
   "source": [
    "t0 = time.time()\n",
    "rl_model = LinearRegression()\n",
    "rl_model.fit(X_train, y_train)\n",
    "y_pred = rl_model.predict(X_test)\n",
    "t1 = time.time()\n",
    "total_time = t1 - t0\n",
    "mse = mean_squared_error(y_pred, y_test)\n",
    "rmse = np.sqrt(mse)\n",
    "print(f' r2_score: {r2_score(y_pred, y_test)}.')\n",
    "print(f' RECM: {rmse}.')\n",
    "print(f' Tiempo total de entrenamiento: {total_time}.')"
   ]
  },
  {
   "cell_type": "markdown",
   "metadata": {},
   "source": [
    "Se puede observar que el modelo es extremandamente deficiente.\n",
    "\n",
    "### Entrenamiento con regresión lineal con descenso de gradiente estocástico"
   ]
  },
  {
   "cell_type": "code",
   "execution_count": 21,
   "metadata": {},
   "outputs": [],
   "source": [
    "class SGDLinearRegression:\n",
    "    def __init__(self, step_size, epochs, batch_size, reg_weight):\n",
    "        self.step_size = step_size\n",
    "        self.epochs = epochs\n",
    "        self.batch_size = batch_size\n",
    "        self.reg_weight = reg_weight\n",
    "    \n",
    "    def fit(self, train_features, train_target):\n",
    "        X = np.concatenate(\n",
    "            (np.ones((train_features.shape[0], 1)), train_features), axis=1\n",
    "        )\n",
    "        y = train_target\n",
    "        w = np.zeros(X.shape[1]).astype('float64')\n",
    "        \n",
    "        for _ in range(self.epochs):\n",
    "            batches_count = X.shape[0] // self.batch_size\n",
    "            for i in range(batches_count):\n",
    "                begin = i * self.batch_size\n",
    "                end = (i + 1) * self.batch_size\n",
    "                X_batch = X[begin:end, :]\n",
    "                y_batch = y[begin:end]\n",
    "                \n",
    "                gradient = (2 * X_batch.T.dot(X_batch.dot(w) - y_batch)/ X_batch.shape[0]).astype('float64')\n",
    "                \n",
    "                reg = 2 * w.copy()\n",
    "                reg[0] = 0\n",
    "                \n",
    "                gradient += self.reg_weight * reg\n",
    "                \n",
    "                w -= self.step_size*gradient\n",
    "\n",
    "        self.w = w[1:]\n",
    "        self.w0 = w[0]\n",
    "\n",
    "    def predict(self, test_features):\n",
    "        return test_features.dot(self.w) + self.w0"
   ]
  },
  {
   "cell_type": "code",
   "execution_count": 22,
   "metadata": {},
   "outputs": [
    {
     "name": "stdout",
     "output_type": "stream",
     "text": [
      " métrica r2_score: 0.6433.\n",
      " RECM: 2610.15363570392.\n",
      "Tiempo de entrenamiento y predicción es:59.216625928878784 segundos.\n"
     ]
    }
   ],
   "source": [
    "## entrenamineto del modelo SGDRL\n",
    "    \n",
    "t0 = time.time()    \n",
    "model = SGDLinearRegression(0.01, 10, 100, 0)\n",
    "model.fit(X_train, y_train)\n",
    "pred_test = model.predict(X_test)\n",
    "t1 = time.time()\n",
    "mse = mean_squared_error(pred_test, y_test)\n",
    "rmse = np.sqrt(mse)\n",
    "process_time = (t1-t0)\n",
    "print(f' métrica r2_score: {r2_score(y_test, pred_test).round(4)}.')\n",
    "print(f' RECM: {rmse}.')\n",
    "print(f'Tiempo de entrenamiento y predicción es:{process_time} segundos.')"
   ]
  },
  {
   "cell_type": "markdown",
   "metadata": {},
   "source": [
    "### Entrenamiento de modelo mediante LightGBM"
   ]
  },
  {
   "cell_type": "code",
   "execution_count": 23,
   "metadata": {},
   "outputs": [],
   "source": [
    "train_data = lgb.Dataset(X_train, label=y_train)\n",
    "test_data = lgb.Dataset(X_test, label=y_test)"
   ]
  },
  {
   "cell_type": "code",
   "execution_count": 24,
   "metadata": {},
   "outputs": [],
   "source": [
    "## especificando parámetros a utilizar para lightgbm\n",
    "\n",
    "parameters = {\n",
    "    'force_row_wise' : True,\n",
    "    'is_unbalance' : True,\n",
    "    'boosting_type' : 'gbdt',\n",
    "    'verbosity' : -1,\n",
    "    'num_leaves' : 150,\n",
    "    'learning_rate' : 0.3,\n",
    "    'metric' : ['rmse', 'auc'],\n",
    "    'random_state' : 1266,\n",
    "    'subsample_for_bin' : 10000,\n",
    "    'n_estimators' : 300\n",
    "}"
   ]
  },
  {
   "cell_type": "code",
   "execution_count": 25,
   "metadata": {
    "scrolled": true
   },
   "outputs": [
    {
     "name": "stderr",
     "output_type": "stream",
     "text": [
      "/opt/conda/lib/python3.9/site-packages/lightgbm/engine.py:177: UserWarning: Found `n_estimators` in params. Will use it instead of argument\n",
      "  _log_warning(f\"Found `{alias}` in params. Will use it instead of argument\")\n"
     ]
    },
    {
     "name": "stdout",
     "output_type": "stream",
     "text": [
      "Training until validation scores don't improve for 10 rounds\n",
      "Early stopping, best iteration is:\n",
      "[72]\tvalid_0's rmse: 1600.38\tvalid_0's auc: 0.702606\n",
      "Tiempo de entrenamiento y predicción es:12.503230571746826 segundos.\n"
     ]
    }
   ],
   "source": [
    "callbacks = [lgb.early_stopping(10)]\n",
    "t0 = time.time()\n",
    "model_gbm = lgb.train(parameters,                      \n",
    "                      train_data,\n",
    "                      valid_sets = test_data,\n",
    "                      num_boost_round =1000,\n",
    "                      callbacks = callbacks,\n",
    "                     )\n",
    "predict = model_gbm.predict(X_test)\n",
    "t1 = time.time()\n",
    "process_time = (t1-t0)\n",
    "print(f'Tiempo de entrenamiento y predicción es:{process_time} segundos.')"
   ]
  },
  {
   "cell_type": "markdown",
   "metadata": {},
   "source": [
    "El proceso anterior si bien tiene un `RECM` excelente junto con un `AUC` deseable, el tiempo de entrenamiento con los recursos de procesamiento utilizado es relativamente  grande, alrededor de **8.6 min**, por lo que realizar un mejor boosting al probar con los hiperparámetros correctos debe de ser deseable."
   ]
  },
  {
   "cell_type": "code",
   "execution_count": 26,
   "metadata": {},
   "outputs": [
    {
     "name": "stdout",
     "output_type": "stream",
     "text": [
      "Métrica r2_score: 0.8659.\n",
      "RECM: 1600.3756623334853.\n"
     ]
    }
   ],
   "source": [
    "mse = mean_squared_error(predict, y_test)\n",
    "rmse = np.sqrt(mse)\n",
    "print(f'Métrica r2_score: {r2_score(y_test, predict).round(4)}.')\n",
    "print(f'RECM: {rmse}.')"
   ]
  },
  {
   "cell_type": "markdown",
   "metadata": {},
   "source": [
    "## Análisis del modelo\n",
    "\n",
    "### Analizando pruebas con el modelo de regresión lineal SGDL"
   ]
  },
  {
   "cell_type": "code",
   "execution_count": 27,
   "metadata": {},
   "outputs": [
    {
     "name": "stdout",
     "output_type": "stream",
     "text": [
      "0.5608\n",
      "Tiempo de entrenamiento y predicción es:58.17849516868591 segundos.\n"
     ]
    }
   ],
   "source": [
    "t0 = time.time()\n",
    "model =SGDLinearRegression(0.01, 10, 100, 0.1)\n",
    "model.fit(X_train, y_train)\n",
    "pred_test = model.predict(X_test)\n",
    "t1 = time.time()\n",
    "process_time = (t1-t0)\n",
    "print(r2_score(y_test, pred_test).round(4))\n",
    "print(f'Tiempo de entrenamiento y predicción es:{process_time} segundos.')"
   ]
  },
  {
   "cell_type": "code",
   "execution_count": 28,
   "metadata": {},
   "outputs": [
    {
     "name": "stdout",
     "output_type": "stream",
     "text": [
      "0.4166\n",
      "Tiempo de entrenamiento y predicción es:59.191253423690796 segundos.\n"
     ]
    }
   ],
   "source": [
    "t0 = time.time()\n",
    "model =SGDLinearRegression(0.01, 10, 100, 1)\n",
    "model.fit(X_train, y_train)\n",
    "pred_test = model.predict(X_test)\n",
    "t1 = time.time()\n",
    "process_time = (t1-t0)\n",
    "print(r2_score(y_test, pred_test).round(4))\n",
    "print(f'Tiempo de entrenamiento y predicción es:{process_time} segundos.')"
   ]
  },
  {
   "cell_type": "code",
   "execution_count": 29,
   "metadata": {},
   "outputs": [
    {
     "name": "stdout",
     "output_type": "stream",
     "text": [
      "0.1028\n",
      "Tiempo de entrenamiento y predicción es:58.711695432662964 segundos.\n"
     ]
    }
   ],
   "source": [
    "t0 = time.time()\n",
    "model =SGDLinearRegression(0.01, 10, 100, 10)\n",
    "model.fit(X_train, y_train)\n",
    "pred_test = model.predict(X_test)\n",
    "t1 = time.time()\n",
    "process_time = (t1-t0)\n",
    "print(r2_score(y_test, pred_test).round(4))\n",
    "print(f'Tiempo de entrenamiento y predicción es:{process_time} segundos.')"
   ]
  },
  {
   "cell_type": "code",
   "execution_count": 30,
   "metadata": {},
   "outputs": [
    {
     "name": "stdout",
     "output_type": "stream",
     "text": [
      "0.6432\n",
      "Tiempo de entrenamiento y predicción es:19.48103976249695 segundos.\n"
     ]
    }
   ],
   "source": [
    "t0 = time.time()\n",
    "model =SGDLinearRegression(0.1, 10, 1000, 0)\n",
    "model.fit(X_train, y_train)\n",
    "pred_test = model.predict(X_test)\n",
    "t1 = time.time()\n",
    "process_time = (t1-t0)\n",
    "print(r2_score(y_test, pred_test).round(4))\n",
    "print(f'Tiempo de entrenamiento y predicción es:{process_time} segundos.')"
   ]
  },
  {
   "cell_type": "markdown",
   "metadata": {},
   "source": [
    "### Analizando pruebas con el modelo de regresión lineal GBDT\n",
    "\n",
    "Así nos referimos al modelo realizado con las herramientas de LightGBM en el cual se utilizó potenciación del gradiente con árboles de decisión.\n",
    "Se puede observar que se obtiene el mejor rendimiento en el modelo."
   ]
  },
  {
   "cell_type": "code",
   "execution_count": 31,
   "metadata": {},
   "outputs": [],
   "source": [
    "train_data = lgb.Dataset(X_train, label=y_train)\n",
    "test_data = lgb.Dataset(X_test, label=y_test)"
   ]
  },
  {
   "cell_type": "code",
   "execution_count": 32,
   "metadata": {},
   "outputs": [
    {
     "name": "stderr",
     "output_type": "stream",
     "text": [
      "/opt/conda/lib/python3.9/site-packages/lightgbm/engine.py:177: UserWarning: Found `n_estimators` in params. Will use it instead of argument\n",
      "  _log_warning(f\"Found `{alias}` in params. Will use it instead of argument\")\n"
     ]
    },
    {
     "name": "stdout",
     "output_type": "stream",
     "text": [
      "Training until validation scores don't improve for 10 rounds\n",
      "Early stopping, best iteration is:\n",
      "[72]\tvalid_0's rmse: 1600.38\tvalid_0's auc: 0.702606\n",
      "Tiempo de entrenamiento y predicción es:13.01892352104187 segundos.\n"
     ]
    }
   ],
   "source": [
    "callbacks = [lgb.early_stopping(10)]\n",
    "t0 = time.time()\n",
    "model_gbm_2 = lgb.LGBMClassifier()\n",
    "model_gbm_2 = lgb.train(parameters,\n",
    "                      train_data,\n",
    "                      valid_sets = test_data,\n",
    "                      num_boost_round =500,\n",
    "                      callbacks = callbacks\n",
    "                     )\n",
    "predict = model_gbm_2.predict(X_test)\n",
    "t1 = time.time()\n",
    "process_time = (t1-t0)\n",
    "print(f'Tiempo de entrenamiento y predicción es:{process_time} segundos.')"
   ]
  },
  {
   "cell_type": "code",
   "execution_count": 33,
   "metadata": {},
   "outputs": [
    {
     "name": "stdout",
     "output_type": "stream",
     "text": [
      "Métrica r2_score: 0.8659.\n",
      "RECM: 1600.3756623334853.\n"
     ]
    }
   ],
   "source": [
    "mse = mean_squared_error(predict, y_test)\n",
    "rmse = np.sqrt(mse)\n",
    "print(f'Métrica r2_score: {r2_score(y_test, predict).round(4)}.')\n",
    "print(f'RECM: {rmse}.')"
   ]
  },
  {
   "cell_type": "markdown",
   "metadata": {},
   "source": [
    "<!-- La métrica de r2_score es buena (**0.859**) con un RECM = **1697.25** el cual es un error muy por debajo de los primeros modelos de regresión lineal que se utilizaron  -->"
   ]
  },
  {
   "cell_type": "code",
   "execution_count": 34,
   "metadata": {},
   "outputs": [],
   "source": [
    "train_data = lgb.Dataset(X_train, label=y_train)\n",
    "test_data = lgb.Dataset(X_test, label=y_test)"
   ]
  },
  {
   "cell_type": "code",
   "execution_count": 35,
   "metadata": {},
   "outputs": [],
   "source": [
    "# modificando algunos de los parámetros del modelo que tuvo mejor rendimiento (model_gbm)\n",
    "\n",
    "parameters = {\n",
    "    'force_row_wise' : True,\n",
    "    'is_unbalance' : True,\n",
    "    'boosting'  : 'gbdt',\n",
    "    'verbosity' : -1,\n",
    "    'num_leaves' : 100,\n",
    "    'learning_rate' : 0.5,\n",
    "    'metric' : ['rmse', 'auc']}"
   ]
  },
  {
   "cell_type": "code",
   "execution_count": 36,
   "metadata": {},
   "outputs": [
    {
     "name": "stdout",
     "output_type": "stream",
     "text": [
      "Tiempo total de entrenamiento:6.281378746032715\n",
      "Métrica r2_score: 0.8445.\n",
      "RECM: 1723.3256942827438.\n"
     ]
    }
   ],
   "source": [
    "callbacks = [lgb.early_stopping(10)]\n",
    "t0 = time.time()\n",
    "model_gbm = lgb.LGBMRegressor()\n",
    "model_gbm.fit(X_train, y_train)\n",
    "t1 = time.time()\n",
    "total_time = t1 - t0\n",
    "print(f'Tiempo total de entrenamiento:{total_time}')\n",
    "predict = model_gbm.predict(X_test)\n",
    "mse = mean_squared_error(predict, y_test)\n",
    "rmse = np.sqrt(mse)\n",
    "print(f'Métrica r2_score: {r2_score(y_test, predict).round(4)}.')\n",
    "print(f'RECM: {rmse}.')"
   ]
  },
  {
   "cell_type": "markdown",
   "metadata": {},
   "source": [
    "Aquí ya se tiene una reducción en la velocidad de entrenamiento del modelo sin comprometer el rendimiento de éste."
   ]
  }
 ],
 "metadata": {
  "kernelspec": {
   "display_name": "Python 3 (ipykernel)",
   "language": "python",
   "name": "python3"
  },
  "language_info": {
   "codemirror_mode": {
    "name": "ipython",
    "version": 3
   },
   "file_extension": ".py",
   "mimetype": "text/x-python",
   "name": "python",
   "nbconvert_exporter": "python",
   "pygments_lexer": "ipython3",
   "version": "3.9.5"
  },
  "toc": {
   "base_numbering": 1,
   "nav_menu": {},
   "number_sections": true,
   "sideBar": true,
   "skip_h1_title": true,
   "title_cell": "Table of Contents",
   "title_sidebar": "Contents",
   "toc_cell": false,
   "toc_position": {},
   "toc_section_display": true,
   "toc_window_display": false
  }
 },
 "nbformat": 4,
 "nbformat_minor": 2
}
